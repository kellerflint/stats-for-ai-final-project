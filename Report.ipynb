{
 "cells": [
  {
   "cell_type": "markdown",
   "id": "01da70df-29c7-400a-aabc-f01688822597",
   "metadata": {},
   "source": [
    "# Introduction"
   ]
  },
  {
   "cell_type": "markdown",
   "id": "725d38cc-3d64-4e59-ae10-b5b2ab8e41e3",
   "metadata": {},
   "source": [
    "As students, we were interested in finding what specific demographic and socioeconomic data play part in a students educational success. While demographic information such as race and socioeconomic status play an important role in educational outcomes, the primary focus of this investigation will be pinpointing and identifying the most significant actionable risk factors and things within the educational system that could be modified to potentially improve outcomes for students. We intend to do a comprehensive exploration of a dataset, collected from Portugal and provided by UCI, that provides details about a student’s academic success rates.\n",
    "\n",
    "In this report we will use data cleaning and exploratory data analysis to provide the most significant factors in determining a students educational success. We will also examine different models and provide analysis based on how well they perform.\n",
    "\n"
   ]
  },
  {
   "cell_type": "markdown",
   "id": "7598c44d-e9bd-4b60-843f-3039e55398df",
   "metadata": {},
   "source": [
    "# Exploratory Data Analysis"
   ]
  },
  {
   "cell_type": "markdown",
   "id": "37dfc101-cf29-449f-91ac-b51f4d8e6474",
   "metadata": {},
   "source": [
    "![alt text](images/data_hist.png \"Data Distribution\")"
   ]
  },
  {
   "cell_type": "markdown",
   "id": "0983d30d-51e5-453f-980c-c53b086d2f64",
   "metadata": {},
   "source": [
    "![alt text](images/coef_matrix_before.png \"Coefficient Matrix\")"
   ]
  },
  {
   "cell_type": "markdown",
   "id": "04b1891a-9eef-4995-b5c1-f02b643a46fc",
   "metadata": {},
   "source": [
    "# Data Cleaning/Preparation\n",
    "\n",
    "### Handling Missing Values\n",
    "We started by checking the dataset for any null or missing values. We found no issues as the authors of the dataset had already done basic cleaning and preparation.\n",
    "\n",
    "### Encoding Categorical Variables\n",
    "We identified a number of columns in the dataset as categorical and it was necessary to convert these columns to a format that could be easily interpreted and processed by the algorithms used in our analysis. This involved one-hot encoding these variables to convert them into a binary matrix representation of the categories.\n",
    "\n",
    "### Encoding Target Variable\n",
    "We identified an issue with the presence of 'enrolled' students in our dataset. Since every student is enrolled at some point, this status does not provide clear insight into the educational outcomes we aim to predict. Our objective is to discern the factors that contribute to a student’s successful completion (graduate) or what might lead to their departure (dropout).\n",
    "\n",
    "To address this issue and simplify our dataset, we focused only on students who had left school either via graduating or dropping out. We did this by discarding all rows associated with students still enrolled in their courses. We then transformed our target variable into a binary format, encoding 'graduate' as 1 and 'dropout' as 0 for the modeling process.\n",
    "\n",
    "### Feature Selection\n",
    "After encoding categorical variables most of the features were usable for in models. However we identified two specific columns: \"previous qualification\" and \"previous qualification (grade)\", which posed some concerns. The \"previous qualification\" column is categorical, indicating the type of qualification a student has obtained, while \"previous qualification (grade)\" is numerical, reflecting the grade or score achieved in that qualification. We decided to drop these columns because the grade is directly tied to the type of qualification, creating a dependency that we felt might be problematic to represent and interpret within the model.\n",
    "\n",
    "![alt text](images/coef_matrix_after.png \"Title\")"
   ]
  },
  {
   "cell_type": "markdown",
   "id": "e4a3f353-324c-46ef-924b-193c754cb736",
   "metadata": {},
   "source": [
    "# Model Selection\n",
    "\n",
    "We experimented with a variety of models to achieve the highest accuracy in predicting student outcomes. These included Support Vector Machines, Logistic Regression, Decision Tree Classifier and Random Forest Classifier.\n",
    "\n",
    "All models were evaluated using repeated 10-fold cross-validation over 30 iterations resulting in a total of 300 different training/testing splits. This large sample size allows us to calculate the mean accuracy score with a high level of confidence. By averaging these 300 scores, we obtain a mean that is less likely to be skewed by any single result. Averaging means from multiple samples helps to stabilize the final mean estimate to make sure that it is a reliable representation of the model's performance.\n",
    "\n",
    "### Support Vector Machine\n",
    "- Mean Accuracy: The average accuracy across all cross-validation runs was approximately 0.845.\n",
    "- Standard Deviation: The standard deviation of the accuracy scores was approximately 0.017, suggesting a relatively low variability in the model’s performance across different subsets of the data.\n",
    "- 95% Confidence Interval: The 95% confidence interval for the accuracy scores ranged from approximately 0.807 to 0.888. We can be 95% confident that the true mean accuracy for the model falls within that range.\n",
    "\n",
    "![](images/support_hist.png)\n",
    "\n",
    "### Decision Tree Classifier\n",
    "\n",
    "- Mean Accuracy: The average accuracy across all cross-validation runs was approximately 0.855.\n",
    "- Standard Deviation: The standard deviation of the accuracy scores was approximately 0.017, reflecting a relatively low variability in the model’s performance across different subsets of the data.\n",
    "- 95% Confidence Interval: The 95% confidence interval for the accuracy scores ranged from approximately 0.819 to 0.884. We can be 95% confident that the true mean accuracy for the model falls within that range.\n",
    "\n",
    "![](images/decision_hist.png)\n",
    "\n",
    "### Random Forest Classifier\n",
    "\n",
    "- Mean Accuracy: The average accuracy across all cross-validation runs for the Random Forest Classifier was approximately 0.907.\n",
    "- Standard Deviation: The standard deviation of the accuracy scores was approximately 0.015, indicating a very low variability in the model’s performance.\n",
    "- 95% Confidence Interval: The 95% confidence interval for the accuracy scores ranged from approximately 0.879 to 0.937. We can be 95% confident that the true mean accuracy for the model falls within that range.\n",
    "\n",
    "![](images/forest_hist.png)\n",
    "\n",
    "### Logistic Regression\n",
    "\n",
    "- Mean Accuracy: The Logistic Regression model demonstrated excellent performance with an average accuracy of approximately 0.908 across all cross-validation runs.\n",
    "- Standard Deviation: With a standard deviation of approximately 0.015, the model's performance scores exhibit minimal variability.\n",
    "- 95% Confidence Interval: The 95% confidence interval for the accuracy scores extends from approximately 0.879 to 0.937. We can be 95% confident that the true mean accuracy for the model falls within that range.\n",
    "\n",
    "![](images/logistic_hist.png)"
   ]
  },
  {
   "cell_type": "markdown",
   "id": "b3ec67f3-34e6-43ab-80c9-8be3adb2322b",
   "metadata": {},
   "source": [
    "# Model Analysis"
   ]
  },
  {
   "cell_type": "code",
   "execution_count": null,
   "id": "e7d148ff-6bef-4856-be02-806541d14927",
   "metadata": {},
   "outputs": [],
   "source": []
  },
  {
   "cell_type": "markdown",
   "id": "a57d79aa-742f-4316-882f-4de5f3225290",
   "metadata": {},
   "source": [
    "# Conclusion and Recommendations"
   ]
  },
  {
   "cell_type": "code",
   "execution_count": null,
   "id": "ef9405f0-93d5-4484-bf08-23116ab89486",
   "metadata": {},
   "outputs": [],
   "source": []
  }
 ],
 "metadata": {
  "kernelspec": {
   "display_name": "Python 3 (ipykernel)",
   "language": "python",
   "name": "python3"
  },
  "language_info": {
   "codemirror_mode": {
    "name": "ipython",
    "version": 3
   },
   "file_extension": ".py",
   "mimetype": "text/x-python",
   "name": "python",
   "nbconvert_exporter": "python",
   "pygments_lexer": "ipython3",
   "version": "3.11.5"
  }
 },
 "nbformat": 4,
 "nbformat_minor": 5
}
