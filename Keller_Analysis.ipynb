{
 "cells": [
  {
   "cell_type": "code",
   "execution_count": 177,
   "metadata": {},
   "outputs": [],
   "source": [
    "import numpy as np\n",
    "import pandas as pd\n",
    "from scipy.stats import pearsonr\n",
    "import matplotlib.pyplot as plt\n",
    "import seaborn as sns\n",
    "import warnings\n",
    "import statsmodels.api as sm\n",
    "from sklearn.model_selection import train_test_split\n",
    "from sklearn.linear_model import LogisticRegression\n",
    "warnings.filterwarnings('ignore')\n",
    "\n",
    "\n",
    "# https://archive.ics.uci.edu/dataset/697/predict+students+dropout+and+academic+success"
   ]
  },
  {
   "cell_type": "code",
   "execution_count": 178,
   "metadata": {},
   "outputs": [
    {
     "data": {
      "text/html": [
       "<div>\n",
       "<style scoped>\n",
       "    .dataframe tbody tr th:only-of-type {\n",
       "        vertical-align: middle;\n",
       "    }\n",
       "\n",
       "    .dataframe tbody tr th {\n",
       "        vertical-align: top;\n",
       "    }\n",
       "\n",
       "    .dataframe thead th {\n",
       "        text-align: right;\n",
       "    }\n",
       "</style>\n",
       "<table border=\"1\" class=\"dataframe\">\n",
       "  <thead>\n",
       "    <tr style=\"text-align: right;\">\n",
       "      <th></th>\n",
       "      <th>Marital status</th>\n",
       "      <th>Application mode</th>\n",
       "      <th>Application order</th>\n",
       "      <th>Course</th>\n",
       "      <th>Daytime/evening attendance\\t</th>\n",
       "      <th>Previous qualification</th>\n",
       "      <th>Previous qualification (grade)</th>\n",
       "      <th>Nacionality</th>\n",
       "      <th>Mother's qualification</th>\n",
       "      <th>Father's qualification</th>\n",
       "      <th>...</th>\n",
       "      <th>Curricular units 2nd sem (credited)</th>\n",
       "      <th>Curricular units 2nd sem (enrolled)</th>\n",
       "      <th>Curricular units 2nd sem (evaluations)</th>\n",
       "      <th>Curricular units 2nd sem (approved)</th>\n",
       "      <th>Curricular units 2nd sem (grade)</th>\n",
       "      <th>Curricular units 2nd sem (without evaluations)</th>\n",
       "      <th>Unemployment rate</th>\n",
       "      <th>Inflation rate</th>\n",
       "      <th>GDP</th>\n",
       "      <th>Target</th>\n",
       "    </tr>\n",
       "  </thead>\n",
       "  <tbody>\n",
       "    <tr>\n",
       "      <th>0</th>\n",
       "      <td>1</td>\n",
       "      <td>17</td>\n",
       "      <td>5</td>\n",
       "      <td>171</td>\n",
       "      <td>1</td>\n",
       "      <td>1</td>\n",
       "      <td>122.0</td>\n",
       "      <td>1</td>\n",
       "      <td>19</td>\n",
       "      <td>12</td>\n",
       "      <td>...</td>\n",
       "      <td>0</td>\n",
       "      <td>0</td>\n",
       "      <td>0</td>\n",
       "      <td>0</td>\n",
       "      <td>0.000000</td>\n",
       "      <td>0</td>\n",
       "      <td>10.8</td>\n",
       "      <td>1.4</td>\n",
       "      <td>1.74</td>\n",
       "      <td>Dropout</td>\n",
       "    </tr>\n",
       "    <tr>\n",
       "      <th>1</th>\n",
       "      <td>1</td>\n",
       "      <td>15</td>\n",
       "      <td>1</td>\n",
       "      <td>9254</td>\n",
       "      <td>1</td>\n",
       "      <td>1</td>\n",
       "      <td>160.0</td>\n",
       "      <td>1</td>\n",
       "      <td>1</td>\n",
       "      <td>3</td>\n",
       "      <td>...</td>\n",
       "      <td>0</td>\n",
       "      <td>6</td>\n",
       "      <td>6</td>\n",
       "      <td>6</td>\n",
       "      <td>13.666667</td>\n",
       "      <td>0</td>\n",
       "      <td>13.9</td>\n",
       "      <td>-0.3</td>\n",
       "      <td>0.79</td>\n",
       "      <td>Graduate</td>\n",
       "    </tr>\n",
       "    <tr>\n",
       "      <th>2</th>\n",
       "      <td>1</td>\n",
       "      <td>1</td>\n",
       "      <td>5</td>\n",
       "      <td>9070</td>\n",
       "      <td>1</td>\n",
       "      <td>1</td>\n",
       "      <td>122.0</td>\n",
       "      <td>1</td>\n",
       "      <td>37</td>\n",
       "      <td>37</td>\n",
       "      <td>...</td>\n",
       "      <td>0</td>\n",
       "      <td>6</td>\n",
       "      <td>0</td>\n",
       "      <td>0</td>\n",
       "      <td>0.000000</td>\n",
       "      <td>0</td>\n",
       "      <td>10.8</td>\n",
       "      <td>1.4</td>\n",
       "      <td>1.74</td>\n",
       "      <td>Dropout</td>\n",
       "    </tr>\n",
       "    <tr>\n",
       "      <th>3</th>\n",
       "      <td>1</td>\n",
       "      <td>17</td>\n",
       "      <td>2</td>\n",
       "      <td>9773</td>\n",
       "      <td>1</td>\n",
       "      <td>1</td>\n",
       "      <td>122.0</td>\n",
       "      <td>1</td>\n",
       "      <td>38</td>\n",
       "      <td>37</td>\n",
       "      <td>...</td>\n",
       "      <td>0</td>\n",
       "      <td>6</td>\n",
       "      <td>10</td>\n",
       "      <td>5</td>\n",
       "      <td>12.400000</td>\n",
       "      <td>0</td>\n",
       "      <td>9.4</td>\n",
       "      <td>-0.8</td>\n",
       "      <td>-3.12</td>\n",
       "      <td>Graduate</td>\n",
       "    </tr>\n",
       "    <tr>\n",
       "      <th>4</th>\n",
       "      <td>2</td>\n",
       "      <td>39</td>\n",
       "      <td>1</td>\n",
       "      <td>8014</td>\n",
       "      <td>0</td>\n",
       "      <td>1</td>\n",
       "      <td>100.0</td>\n",
       "      <td>1</td>\n",
       "      <td>37</td>\n",
       "      <td>38</td>\n",
       "      <td>...</td>\n",
       "      <td>0</td>\n",
       "      <td>6</td>\n",
       "      <td>6</td>\n",
       "      <td>6</td>\n",
       "      <td>13.000000</td>\n",
       "      <td>0</td>\n",
       "      <td>13.9</td>\n",
       "      <td>-0.3</td>\n",
       "      <td>0.79</td>\n",
       "      <td>Graduate</td>\n",
       "    </tr>\n",
       "  </tbody>\n",
       "</table>\n",
       "<p>5 rows × 37 columns</p>\n",
       "</div>"
      ],
      "text/plain": [
       "   Marital status  Application mode  Application order  Course  \\\n",
       "0               1                17                  5     171   \n",
       "1               1                15                  1    9254   \n",
       "2               1                 1                  5    9070   \n",
       "3               1                17                  2    9773   \n",
       "4               2                39                  1    8014   \n",
       "\n",
       "   Daytime/evening attendance\\t  Previous qualification  \\\n",
       "0                             1                       1   \n",
       "1                             1                       1   \n",
       "2                             1                       1   \n",
       "3                             1                       1   \n",
       "4                             0                       1   \n",
       "\n",
       "   Previous qualification (grade)  Nacionality  Mother's qualification  \\\n",
       "0                           122.0            1                      19   \n",
       "1                           160.0            1                       1   \n",
       "2                           122.0            1                      37   \n",
       "3                           122.0            1                      38   \n",
       "4                           100.0            1                      37   \n",
       "\n",
       "   Father's qualification  ...  Curricular units 2nd sem (credited)  \\\n",
       "0                      12  ...                                    0   \n",
       "1                       3  ...                                    0   \n",
       "2                      37  ...                                    0   \n",
       "3                      37  ...                                    0   \n",
       "4                      38  ...                                    0   \n",
       "\n",
       "   Curricular units 2nd sem (enrolled)  \\\n",
       "0                                    0   \n",
       "1                                    6   \n",
       "2                                    6   \n",
       "3                                    6   \n",
       "4                                    6   \n",
       "\n",
       "   Curricular units 2nd sem (evaluations)  \\\n",
       "0                                       0   \n",
       "1                                       6   \n",
       "2                                       0   \n",
       "3                                      10   \n",
       "4                                       6   \n",
       "\n",
       "   Curricular units 2nd sem (approved)  Curricular units 2nd sem (grade)  \\\n",
       "0                                    0                          0.000000   \n",
       "1                                    6                         13.666667   \n",
       "2                                    0                          0.000000   \n",
       "3                                    5                         12.400000   \n",
       "4                                    6                         13.000000   \n",
       "\n",
       "   Curricular units 2nd sem (without evaluations)  Unemployment rate  \\\n",
       "0                                               0               10.8   \n",
       "1                                               0               13.9   \n",
       "2                                               0               10.8   \n",
       "3                                               0                9.4   \n",
       "4                                               0               13.9   \n",
       "\n",
       "   Inflation rate   GDP    Target  \n",
       "0             1.4  1.74   Dropout  \n",
       "1            -0.3  0.79  Graduate  \n",
       "2             1.4  1.74   Dropout  \n",
       "3            -0.8 -3.12  Graduate  \n",
       "4            -0.3  0.79  Graduate  \n",
       "\n",
       "[5 rows x 37 columns]"
      ]
     },
     "execution_count": 178,
     "metadata": {},
     "output_type": "execute_result"
    }
   ],
   "source": [
    "df = pd.read_csv(\"data.csv\", sep=\";\")\n",
    "df.head()"
   ]
  },
  {
   "cell_type": "code",
   "execution_count": 179,
   "metadata": {},
   "outputs": [
    {
     "name": "stdout",
     "output_type": "stream",
     "text": [
      "Missing values: False\n"
     ]
    }
   ],
   "source": [
    "# check for missing values in each column\n",
    "print(\"Missing values:\", df.isna().sum().any())"
   ]
  },
  {
   "cell_type": "code",
   "execution_count": 180,
   "metadata": {},
   "outputs": [
    {
     "data": {
      "image/png": "[encoded data removed]",
      "text/plain": [
       "<Figure size 800x500 with 1 Axes>"
      ]
     },
     "metadata": {},
     "output_type": "display_data"
    }
   ],
   "source": [
    "# plot the distribution of target variable\n",
    "plt.figure(figsize=(8, 5))\n",
    "sns.countplot(data=df, x=\"Target\")\n",
    "plt.title(\"Distribution of Target Variable\")\n",
    "plt.show()"
   ]
  },
  {
   "cell_type": "code",
   "execution_count": 181,
   "metadata": {},
   "outputs": [
    {
     "data": {
      "text/plain": [
       "'\\n\\nnum_columns = len(df.columns)\\nplt.figure(figsize=(20, 4 * num_columns))\\n\\nfor i, col in enumerate(df.columns, 1):\\n    plt.subplot(num_columns, 3, i)\\n    sns.histplot(df[col], bins=30, kde=True)\\n    plt.title(f\\'Distribution of {col}\\')\\n    plt.tight_layout()\\n\\nplt.show()\\n\\n\\nfor col in df.columns:\\n    length = len(df[col].unique())\\n    #if (length < 10):\\n    print(col,\":\", length)\\n\\n'"
      ]
     },
     "execution_count": 181,
     "metadata": {},
     "output_type": "execute_result"
    }
   ],
   "source": [
    "# Plotting histograms for each column in the dataset\n",
    "\n",
    "'''\n",
    "\n",
    "num_columns = len(df.columns)\n",
    "plt.figure(figsize=(20, 4 * num_columns))\n",
    "\n",
    "for i, col in enumerate(df.columns, 1):\n",
    "    plt.subplot(num_columns, 3, i)\n",
    "    sns.histplot(df[col], bins=30, kde=True)\n",
    "    plt.title(f'Distribution of {col}')\n",
    "    plt.tight_layout()\n",
    "\n",
    "plt.show()\n",
    "\n",
    "\n",
    "for col in df.columns:\n",
    "    length = len(df[col].unique())\n",
    "    #if (length < 10):\n",
    "    print(col,\":\", length)\n",
    "\n",
    "'''"
   ]
  },
  {
   "cell_type": "markdown",
   "metadata": {},
   "source": [
    "Features\n",
    "Name, type, unique count or range\n",
    "\n",
    "Marital Status - Categorical - 6\n",
    "Application Mode - Categorical - 18\n",
    "Application Order - Continuous - 0 to 10\n",
    "Course - Categorical - 17\n",
    "Daytime/evening attendance - binary - 2\n",
    "Previous qualifications - Categorical - 17"
   ]
  },
  {
   "cell_type": "code",
   "execution_count": 182,
   "metadata": {},
   "outputs": [
    {
     "name": "stdout",
     "output_type": "stream",
     "text": [
      "Training and testing data shape (2541, 185) (1089, 185) (2541,) (1089,)\n",
      "Total Columns:  185\n"
     ]
    }
   ],
   "source": [
    "from sklearn.model_selection import cross_val_score\n",
    "\n",
    "def encode_target(x):\n",
    "    if x == \"Graduate\":\n",
    "        return 1\n",
    "    elif x == \"Dropout\":\n",
    "        return 0\n",
    "    else:\n",
    "        return x\n",
    "\n",
    "df = df[df['Target'].isin(['Dropout', 'Graduate'])]\n",
    "\n",
    "prepared_df = pd.DataFrame()\n",
    "\n",
    "# one hot encoding for categorical variables with small number of unique values\n",
    "# 7594 with all of these from \n",
    "one_hot_app_mode = pd.get_dummies(df['Application mode'], prefix='Application mode')\n",
    "one_hot_encoded_marital = pd.get_dummies(df['Marital status'], prefix='Marital status')\n",
    "one_hot_encoded_mother_qual = pd.get_dummies(df[\"Mother's qualification\"], prefix=\"Mother's qualification\")\n",
    "one_hot_encoded_father_qual = pd.get_dummies(df[\"Father's qualification\"], prefix=\"Father's qualification\")\n",
    "one_hot_encoded_mother_occ = pd.get_dummies(df[\"Mother's occupation\"], prefix=\"Mother's occupation\")\n",
    "one_hot_encoded_father_occ = pd.get_dummies(df[\"Father's occupation\"], prefix=\"Father's occupation\")\n",
    "one_hot_encoded_nationality = pd.get_dummies(df[\"Nacionality\"], prefix=\"Nacionality\")\n",
    "\n",
    "prepared_df = pd.concat([prepared_df, one_hot_encoded_marital, one_hot_encoded_mother_qual, one_hot_encoded_father_qual, one_hot_encoded_mother_occ, one_hot_encoded_father_occ, one_hot_encoded_nationality], axis=1)\n",
    "\n",
    "# ordinal variables\n",
    "ordinal_column_names = ['Application order']\n",
    "prepared_df = pd.concat([prepared_df, df[ordinal_column_names]], axis=1)\n",
    "\n",
    "# binary variables\n",
    "binary_column_names = ['Daytime/evening attendance\\t', 'Displaced', 'Educational special needs', 'Debtor', 'Tuition fees up to date', 'Gender', 'Scholarship holder', 'International']\n",
    "prepared_df = pd.concat([prepared_df, df[binary_column_names]], axis=1)\n",
    "\n",
    "# continuous variables\n",
    "continuous_column_names = ['Admission grade', 'Age at enrollment', 'Unemployment rate', 'Inflation rate', 'GDP']\n",
    "prepared_df = pd.concat([prepared_df, df[continuous_column_names]], axis=1)\n",
    "\n",
    "curricular_units_cols = [col for col in df.columns if col.startswith(\"Curricular units\")]\n",
    "prepared_df = pd.concat([prepared_df, df[curricular_units_cols]], axis=1)\n",
    "\n",
    "# encoding the target column\n",
    "df_target = df['Target'].apply(encode_target)\n",
    "# print(df_target)\n",
    "\n",
    "x = prepared_df\n",
    "y = df_target\n",
    "\n",
    "x_train, x_test, y_train, y_test = train_test_split(x, y, test_size=0.3, random_state=42)\n",
    "\n",
    "print(\"Training and testing data shape\", x_train.shape, x_test.shape, y_train.shape, y_test.shape)\n",
    "\n",
    "print(\"Total Columns: \", len(prepared_df.columns))\n"
   ]
  },
  {
   "cell_type": "code",
   "execution_count": 183,
   "metadata": {},
   "outputs": [
    {
     "name": "stdout",
     "output_type": "stream",
     "text": [
      "Total Columns after removing highly correlated columns:  167\n"
     ]
    }
   ],
   "source": [
    "correlation_matrix = prepared_df.corr()\n",
    "\n",
    "# flatten the correlation matrix\n",
    "correlation_df = correlation_matrix.unstack().reset_index()\n",
    "\n",
    "correlation_df.columns = ['Variable_1', 'Variable_2', 'Correlation']\n",
    "\n",
    "# sort the DataFrame on the absolute value of the correlation\n",
    "correlation_df['Abs_Correlation'] = correlation_df['Correlation'].abs()\n",
    "\n",
    "# remove correlation of variables with themselves\n",
    "correlation_df = correlation_df[correlation_df['Variable_1'] != correlation_df['Variable_2']]\n",
    "\n",
    "# remove duplicates\n",
    "correlation_df[['Variable_1', 'Variable_2']] = np.sort(correlation_df[['Variable_1', 'Variable_2']], axis=1)\n",
    "correlation_df = correlation_df.drop_duplicates(subset=['Variable_1', 'Variable_2'])\n",
    "\n",
    "# find high correlation\n",
    "high_corr_pairs = correlation_df[correlation_df['Correlation'].abs() > 0.7]\n",
    "\n",
    "# find columns names to drop\n",
    "variables_to_drop = set()\n",
    "for _, row in high_corr_pairs.iterrows():\n",
    "    if row['Variable_1'] not in variables_to_drop and row['Variable_2'] not in variables_to_drop:\n",
    "        variables_to_drop.add(row['Variable_1'])\n",
    "\n",
    "prepared_df_filtered = prepared_df.drop(columns=variables_to_drop)\n",
    "\n",
    "print(\"Total Columns after removing highly correlated columns: \", len(prepared_df_filtered.columns))"
   ]
  },
  {
   "cell_type": "markdown",
   "metadata": {},
   "source": [
    "### Logistic Regression All Data"
   ]
  },
  {
   "cell_type": "code",
   "execution_count": 184,
   "metadata": {},
   "outputs": [
    {
     "name": "stdout",
     "output_type": "stream",
     "text": [
      "score:  0.9118457300275482\n",
      "Baseline accuracy: 0.6198347107438017\n",
      "Accuracy for each fold:\n",
      "[0.91184573 0.92286501 0.89807163 0.90358127 0.90909091 0.90082645\n",
      " 0.87878788 0.91735537 0.90909091 0.89807163]\n"
     ]
    }
   ],
   "source": [
    "model = LogisticRegression()\n",
    "\n",
    "model.fit(x_train, y_train)\n",
    "\n",
    "print(\"score: \", model.score(x_test, y_test))\n",
    "\n",
    "# find proportion in test set\n",
    "class_proportions = y_test.value_counts(normalize=True)\n",
    "baseline_accuracy = class_proportions.max()\n",
    "print(\"Baseline accuracy:\", baseline_accuracy)\n",
    "\n",
    "scores = cross_val_score(model, x, y, cv=10)\n",
    "\n",
    "# Print the accuracy for each fold\n",
    "print(\"Accuracy for each fold:\")\n",
    "print(scores)\n",
    "\n",
    "#for feature, coef in zip(x_train.columns, model.coef_[0]):\n",
    "#    print(feature, coef)"
   ]
  },
  {
   "cell_type": "markdown",
   "metadata": {},
   "source": [
    "### Logistic Regression with multicollinearity removed"
   ]
  },
  {
   "cell_type": "code",
   "execution_count": 185,
   "metadata": {},
   "outputs": [
    {
     "name": "stdout",
     "output_type": "stream",
     "text": [
      "score:  0.859504132231405\n",
      "Baseline accuracy: 0.6198347107438017\n",
      "Accuracy for each fold:\n",
      "[0.91184573 0.92286501 0.89807163 0.90358127 0.90909091 0.90082645\n",
      " 0.87878788 0.91735537 0.90909091 0.89807163]\n"
     ]
    }
   ],
   "source": [
    "x_filtered = prepared_df_filtered\n",
    "\n",
    "x_train, x_test, y_train, y_test = train_test_split(x_filtered, y, test_size=0.3, random_state=42)\n",
    "\n",
    "model = LogisticRegression()\n",
    "\n",
    "model.fit(x_train, y_train)\n",
    "\n",
    "print(\"score: \", model.score(x_test, y_test))\n",
    "\n",
    "# find proportion in test set\n",
    "class_proportions = y_test.value_counts(normalize=True)\n",
    "baseline_accuracy = class_proportions.max()\n",
    "print(\"Baseline accuracy:\", baseline_accuracy)\n",
    "\n",
    "scores = cross_val_score(model, x, y, cv=10)\n",
    "\n",
    "# Print the accuracy for each fold\n",
    "print(\"Accuracy for each fold:\")\n",
    "print(scores)\n",
    "\n",
    "#for feature, coef in zip(x_train.columns, model.coef_[0]):\n",
    "#    print(feature, coef)"
   ]
  },
  {
   "cell_type": "markdown",
   "metadata": {},
   "source": [
    "### Logistic Regression Model Summary"
   ]
  },
  {
   "cell_type": "code",
   "execution_count": 186,
   "metadata": {},
   "outputs": [
    {
     "name": "stdout",
     "output_type": "stream",
     "text": [
      "Warning: Maximum number of iterations has been exceeded.\n",
      "         Current function value: inf\n",
      "         Iterations: 35\n"
     ]
    },
    {
     "ename": "LinAlgError",
     "evalue": "Singular matrix",
     "output_type": "error",
     "traceback": [
      "\u001b[1;31m---------------------------------------------------------------------------\u001b[0m",
      "\u001b[1;31mLinAlgError\u001b[0m                               Traceback (most recent call last)",
      "\u001b[1;32md:\\Dev\\stats-for-ai-final-project\\Keller_Analysis.ipynb Cell 14\u001b[0m line \u001b[0;36m7\n\u001b[0;32m      <a href='vscode-notebook-cell:/d%3A/Dev/stats-for-ai-final-project/Keller_Analysis.ipynb#X23sZmlsZQ%3D%3D?line=3'>4</a>\u001b[0m x_train_const[bool_cols] \u001b[39m=\u001b[39m x_train_const[bool_cols]\u001b[39m.\u001b[39mastype(\u001b[39mint\u001b[39m)\n\u001b[0;32m      <a href='vscode-notebook-cell:/d%3A/Dev/stats-for-ai-final-project/Keller_Analysis.ipynb#X23sZmlsZQ%3D%3D?line=5'>6</a>\u001b[0m \u001b[39m# Fit the logistic regression model\u001b[39;00m\n\u001b[1;32m----> <a href='vscode-notebook-cell:/d%3A/Dev/stats-for-ai-final-project/Keller_Analysis.ipynb#X23sZmlsZQ%3D%3D?line=6'>7</a>\u001b[0m model_sm_filtered \u001b[39m=\u001b[39m sm\u001b[39m.\u001b[39;49mLogit(y_train, x_train_const)\u001b[39m.\u001b[39;49mfit()\n\u001b[0;32m      <a href='vscode-notebook-cell:/d%3A/Dev/stats-for-ai-final-project/Keller_Analysis.ipynb#X23sZmlsZQ%3D%3D?line=8'>9</a>\u001b[0m \u001b[39m# View the summary of the model\u001b[39;00m\n\u001b[0;32m     <a href='vscode-notebook-cell:/d%3A/Dev/stats-for-ai-final-project/Keller_Analysis.ipynb#X23sZmlsZQ%3D%3D?line=9'>10</a>\u001b[0m \u001b[39mprint\u001b[39m(model_sm_filtered\u001b[39m.\u001b[39msummary())\n",
      "File \u001b[1;32mc:\\Users\\kflin\\AppData\\Local\\Programs\\Python\\Python311\\Lib\\site-packages\\statsmodels\\discrete\\discrete_model.py:2599\u001b[0m, in \u001b[0;36mLogit.fit\u001b[1;34m(self, start_params, method, maxiter, full_output, disp, callback, **kwargs)\u001b[0m\n\u001b[0;32m   2596\u001b[0m \u001b[39m@Appender\u001b[39m(DiscreteModel\u001b[39m.\u001b[39mfit\u001b[39m.\u001b[39m\u001b[39m__doc__\u001b[39m)\n\u001b[0;32m   2597\u001b[0m \u001b[39mdef\u001b[39;00m \u001b[39mfit\u001b[39m(\u001b[39mself\u001b[39m, start_params\u001b[39m=\u001b[39m\u001b[39mNone\u001b[39;00m, method\u001b[39m=\u001b[39m\u001b[39m'\u001b[39m\u001b[39mnewton\u001b[39m\u001b[39m'\u001b[39m, maxiter\u001b[39m=\u001b[39m\u001b[39m35\u001b[39m,\n\u001b[0;32m   2598\u001b[0m         full_output\u001b[39m=\u001b[39m\u001b[39m1\u001b[39m, disp\u001b[39m=\u001b[39m\u001b[39m1\u001b[39m, callback\u001b[39m=\u001b[39m\u001b[39mNone\u001b[39;00m, \u001b[39m*\u001b[39m\u001b[39m*\u001b[39mkwargs):\n\u001b[1;32m-> 2599\u001b[0m     bnryfit \u001b[39m=\u001b[39m \u001b[39msuper\u001b[39;49m()\u001b[39m.\u001b[39;49mfit(start_params\u001b[39m=\u001b[39;49mstart_params,\n\u001b[0;32m   2600\u001b[0m                           method\u001b[39m=\u001b[39;49mmethod,\n\u001b[0;32m   2601\u001b[0m                           maxiter\u001b[39m=\u001b[39;49mmaxiter,\n\u001b[0;32m   2602\u001b[0m                           full_output\u001b[39m=\u001b[39;49mfull_output,\n\u001b[0;32m   2603\u001b[0m                           disp\u001b[39m=\u001b[39;49mdisp,\n\u001b[0;32m   2604\u001b[0m                           callback\u001b[39m=\u001b[39;49mcallback,\n\u001b[0;32m   2605\u001b[0m                           \u001b[39m*\u001b[39;49m\u001b[39m*\u001b[39;49mkwargs)\n\u001b[0;32m   2607\u001b[0m     discretefit \u001b[39m=\u001b[39m LogitResults(\u001b[39mself\u001b[39m, bnryfit)\n\u001b[0;32m   2608\u001b[0m     \u001b[39mreturn\u001b[39;00m BinaryResultsWrapper(discretefit)\n",
      "File \u001b[1;32mc:\\Users\\kflin\\AppData\\Local\\Programs\\Python\\Python311\\Lib\\site-packages\\statsmodels\\discrete\\discrete_model.py:243\u001b[0m, in \u001b[0;36mDiscreteModel.fit\u001b[1;34m(self, start_params, method, maxiter, full_output, disp, callback, **kwargs)\u001b[0m\n\u001b[0;32m    240\u001b[0m \u001b[39melse\u001b[39;00m:\n\u001b[0;32m    241\u001b[0m     \u001b[39mpass\u001b[39;00m  \u001b[39m# TODO: make a function factory to have multiple call-backs\u001b[39;00m\n\u001b[1;32m--> 243\u001b[0m mlefit \u001b[39m=\u001b[39m \u001b[39msuper\u001b[39;49m()\u001b[39m.\u001b[39;49mfit(start_params\u001b[39m=\u001b[39;49mstart_params,\n\u001b[0;32m    244\u001b[0m                      method\u001b[39m=\u001b[39;49mmethod,\n\u001b[0;32m    245\u001b[0m                      maxiter\u001b[39m=\u001b[39;49mmaxiter,\n\u001b[0;32m    246\u001b[0m                      full_output\u001b[39m=\u001b[39;49mfull_output,\n\u001b[0;32m    247\u001b[0m                      disp\u001b[39m=\u001b[39;49mdisp,\n\u001b[0;32m    248\u001b[0m                      callback\u001b[39m=\u001b[39;49mcallback,\n\u001b[0;32m    249\u001b[0m                      \u001b[39m*\u001b[39;49m\u001b[39m*\u001b[39;49mkwargs)\n\u001b[0;32m    251\u001b[0m \u001b[39mreturn\u001b[39;00m mlefit\n",
      "File \u001b[1;32mc:\\Users\\kflin\\AppData\\Local\\Programs\\Python\\Python311\\Lib\\site-packages\\statsmodels\\base\\model.py:582\u001b[0m, in \u001b[0;36mLikelihoodModel.fit\u001b[1;34m(self, start_params, method, maxiter, full_output, disp, fargs, callback, retall, skip_hessian, **kwargs)\u001b[0m\n\u001b[0;32m    580\u001b[0m     Hinv \u001b[39m=\u001b[39m cov_params_func(\u001b[39mself\u001b[39m, xopt, retvals)\n\u001b[0;32m    581\u001b[0m \u001b[39melif\u001b[39;00m method \u001b[39m==\u001b[39m \u001b[39m'\u001b[39m\u001b[39mnewton\u001b[39m\u001b[39m'\u001b[39m \u001b[39mand\u001b[39;00m full_output:\n\u001b[1;32m--> 582\u001b[0m     Hinv \u001b[39m=\u001b[39m np\u001b[39m.\u001b[39;49mlinalg\u001b[39m.\u001b[39;49minv(\u001b[39m-\u001b[39;49mretvals[\u001b[39m'\u001b[39;49m\u001b[39mHessian\u001b[39;49m\u001b[39m'\u001b[39;49m]) \u001b[39m/\u001b[39m nobs\n\u001b[0;32m    583\u001b[0m \u001b[39melif\u001b[39;00m \u001b[39mnot\u001b[39;00m skip_hessian:\n\u001b[0;32m    584\u001b[0m     H \u001b[39m=\u001b[39m \u001b[39m-\u001b[39m\u001b[39m1\u001b[39m \u001b[39m*\u001b[39m \u001b[39mself\u001b[39m\u001b[39m.\u001b[39mhessian(xopt)\n",
      "File \u001b[1;32mc:\\Users\\kflin\\AppData\\Local\\Programs\\Python\\Python311\\Lib\\site-packages\\numpy\\linalg\\linalg.py:561\u001b[0m, in \u001b[0;36minv\u001b[1;34m(a)\u001b[0m\n\u001b[0;32m    559\u001b[0m signature \u001b[39m=\u001b[39m \u001b[39m'\u001b[39m\u001b[39mD->D\u001b[39m\u001b[39m'\u001b[39m \u001b[39mif\u001b[39;00m isComplexType(t) \u001b[39melse\u001b[39;00m \u001b[39m'\u001b[39m\u001b[39md->d\u001b[39m\u001b[39m'\u001b[39m\n\u001b[0;32m    560\u001b[0m extobj \u001b[39m=\u001b[39m get_linalg_error_extobj(_raise_linalgerror_singular)\n\u001b[1;32m--> 561\u001b[0m ainv \u001b[39m=\u001b[39m _umath_linalg\u001b[39m.\u001b[39;49minv(a, signature\u001b[39m=\u001b[39;49msignature, extobj\u001b[39m=\u001b[39;49mextobj)\n\u001b[0;32m    562\u001b[0m \u001b[39mreturn\u001b[39;00m wrap(ainv\u001b[39m.\u001b[39mastype(result_t, copy\u001b[39m=\u001b[39m\u001b[39mFalse\u001b[39;00m))\n",
      "File \u001b[1;32mc:\\Users\\kflin\\AppData\\Local\\Programs\\Python\\Python311\\Lib\\site-packages\\numpy\\linalg\\linalg.py:112\u001b[0m, in \u001b[0;36m_raise_linalgerror_singular\u001b[1;34m(err, flag)\u001b[0m\n\u001b[0;32m    111\u001b[0m \u001b[39mdef\u001b[39;00m \u001b[39m_raise_linalgerror_singular\u001b[39m(err, flag):\n\u001b[1;32m--> 112\u001b[0m     \u001b[39mraise\u001b[39;00m LinAlgError(\u001b[39m\"\u001b[39m\u001b[39mSingular matrix\u001b[39m\u001b[39m\"\u001b[39m)\n",
      "\u001b[1;31mLinAlgError\u001b[0m: Singular matrix"
     ]
    }
   ],
   "source": [
    "x_train_const = sm.add_constant(x_train)\n",
    "\n",
    "bool_cols = x_train_const.select_dtypes(include=['bool']).columns\n",
    "x_train_const[bool_cols] = x_train_const[bool_cols].astype(int)\n",
    "\n",
    "# Fit the logistic regression model\n",
    "model_sm_filtered = sm.Logit(y_train, x_train_const).fit()\n",
    "\n",
    "# View the summary of the model\n",
    "print(model_sm_filtered.summary())"
   ]
  },
  {
   "cell_type": "code",
   "execution_count": null,
   "metadata": {},
   "outputs": [
    {
     "name": "stdout",
     "output_type": "stream",
     "text": [
      "0.8705234159779615\n"
     ]
    }
   ],
   "source": [
    "# Things we could try - decision tree, SVM (Support Vector Model), Random Forest Classifier\n",
    "from sklearn.ensemble import RandomForestClassifier\n",
    "\n",
    "modelRandomForestClassifier = RandomForestClassifier()\n",
    "modelRandomForestClassifier.fit(x_train, y_train)\n",
    "\n",
    "print(modelRandomForestClassifier.score(x_test, y_test))\n"
   ]
  },
  {
   "cell_type": "code",
   "execution_count": null,
   "metadata": {},
   "outputs": [
    {
     "name": "stdout",
     "output_type": "stream",
     "text": [
      "0.8034894398530762\n"
     ]
    }
   ],
   "source": [
    "from sklearn.tree import DecisionTreeClassifier\n",
    "modelDecisionTree = DecisionTreeClassifier()\n",
    "modelDecisionTree.fit(x_train, y_train)\n",
    "\n",
    "print(modelDecisionTree.score(x_test, y_test))"
   ]
  },
  {
   "cell_type": "code",
   "execution_count": null,
   "metadata": {},
   "outputs": [
    {
     "name": "stdout",
     "output_type": "stream",
     "text": [
      "0.7897153351698806\n"
     ]
    }
   ],
   "source": [
    "from sklearn import svm\n",
    "modelSVM = svm.SVC()\n",
    "modelSVM.fit(x_train, y_train)\n",
    "\n",
    "print(modelSVM.score(x_test, y_test))"
   ]
  }
 ],
 "metadata": {
  "kernelspec": {
   "display_name": "Python 3",
   "language": "python",
   "name": "python3"
  },
  "language_info": {
   "codemirror_mode": {
    "name": "ipython",
    "version": 3
   },
   "file_extension": ".py",
   "mimetype": "text/x-python",
   "name": "python",
   "nbconvert_exporter": "python",
   "pygments_lexer": "ipython3",
   "version": "3.11.3"
  }
 },
 "nbformat": 4,
 "nbformat_minor": 2
}
